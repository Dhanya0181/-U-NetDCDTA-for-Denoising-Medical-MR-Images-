{
  "cells": [
    {
      "cell_type": "code",
      "execution_count": null,
      "metadata": {
        "colab": {
          "base_uri": "https://localhost:8080/"
        },
        "id": "YC2u3f9Hco4C",
        "outputId": "6b677b44-ef8f-4f42-a9d4-7a712d5050c6"
      },
      "outputs": [
        {
          "output_type": "stream",
          "name": "stdout",
          "text": [
            "Mounted at /content/gdrive\n"
          ]
        }
      ],
      "source": [
        "from google.colab import drive\n",
        "drive.mount('/content/gdrive')"
      ]
    },
    {
      "cell_type": "code",
      "execution_count": null,
      "metadata": {
        "id": "N23MfN7DSB6F"
      },
      "outputs": [],
      "source": [
        "import os\n",
        "import sys\n",
        "import math\n",
        "#import timm\n",
        "\n",
        "import numpy as np\n",
        "\n",
        "\n",
        "import torch\n",
        "import torch.nn as  nn\n",
        "\n",
        "def preprocess_input(x, mean=None, std=None, input_space=\"RGB\", input_range=None, **kwargs):\n",
        "\n",
        "    if input_space == \"BGR\":\n",
        "        x = x[..., ::-1].copy()\n",
        "\n",
        "    if input_range is not None:\n",
        "        if x.max() > 1 and input_range[1] == 1:\n",
        "            x = x / 255.0\n",
        "\n",
        "    if mean is not None:\n",
        "        mean = np.array(mean)\n",
        "        x = x - mean\n",
        "\n",
        "    if std is not None:\n",
        "        std = np.array(std)\n",
        "        x = x / std\n",
        "\n",
        "    return x\n",
        "\n",
        "\n",
        "def patch_first_conv(model, new_in_channels, default_in_channels=3, pretrained=True):\n",
        "\n",
        "    for module in model.modules():\n",
        "        if isinstance(module, nn.Conv2d) and module.in_channels == default_in_channels:\n",
        "            break\n",
        "\n",
        "    weight = module.weight.detach()\n",
        "    module.in_channels = new_in_channels\n",
        "\n",
        "    if not pretrained:\n",
        "        module.weight = nn.parameter.Parameter( torch.Tensor(module.out_channels,\n",
        "                         new_in_channels // module.groups, *module.kernel_size))\n",
        "        module.reset_parameters()\n",
        "\n",
        "    elif new_in_channels == 1:\n",
        "        new_weight = weight.sum(1, keepdim=True)\n",
        "        module.weight = nn.parameter.Parameter(new_weight)\n",
        "\n",
        "    else:\n",
        "        new_weight = torch.Tensor(module.out_channels, new_in_channels // module.groups, *module.kernel_size)\n",
        "\n",
        "        for i in range(new_in_channels):\n",
        "            new_weight[:, i] = weight[:, i % default_in_channels]\n",
        "\n",
        "        new_weight = new_weight * (default_in_channels / new_in_channels)\n",
        "        module.weight = nn.parameter.Parameter(new_weight)\n",
        "\n",
        "\n",
        "def replace_strides_with_dilation(module, dilation_rate):\n",
        "\n",
        "    for mod in module.modules():\n",
        "        if isinstance(mod, nn.Conv2d):\n",
        "            mod.stride = (1, 1)\n",
        "            mod.dilation = (dilation_rate, dilation_rate)\n",
        "            kh, kw = mod.kernel_size\n",
        "            mod.padding = ((kh // 2) * dilation_rate, (kh // 2) * dilation_rate)\n",
        "\n",
        "            if hasattr(mod, \"static_padding\"):\n",
        "                mod.static_padding = nn.Identity()\n",
        "\n",
        "\n",
        "class EncoderMixin:\n",
        "\n",
        "    _output_stride = 32\n",
        "\n",
        "\n",
        "    @property\n",
        "    def out_channels(self):\n",
        "        return self._out_channels[: self._depth + 1]\n",
        "\n",
        "    @property\n",
        "    def output_stride(self):\n",
        "        return min(self._output_stride, 2 ** self._depth)\n",
        "\n",
        "    def set_in_channels(self, in_channels, pretrained=True):\n",
        "        if in_channels == 3:\n",
        "            return\n",
        "\n",
        "        self._in_channels = in_channels\n",
        "        if self._out_channels[0] == 3:\n",
        "            self._out_channels = tuple([in_channels] + list(self._out_channels)[1:])\n",
        "\n",
        "        patch_first_conv(model=self, new_in_channels=in_channels, pretrained=pretrained)\n",
        "\n",
        "    def get_stages(self):\n",
        "        raise NotImplementedError\n",
        "\n",
        "    def make_dilated(self, output_stride):\n",
        "\n",
        "        if output_stride == 16:\n",
        "            stage_list = [\n",
        "                5,\n",
        "            ]\n",
        "            dilation_list = [\n",
        "                2,\n",
        "            ]\n",
        "\n",
        "        elif output_stride == 8:\n",
        "            stage_list = [4, 5]\n",
        "            dilation_list = [2, 4]\n",
        "\n",
        "        else:\n",
        "            raise ValueError(\"Output stride should be 16 or 8, got {}.\".format(output_stride))\n",
        "\n",
        "        self._output_stride = output_stride\n",
        "\n",
        "        stages = self.get_stages()\n",
        "        for stage_indx, dilation_rate in zip(stage_list, dilation_list):\n",
        "            replace_strides_with_dilation(\n",
        "                module=stages[stage_indx],\n",
        "                dilation_rate=dilation_rate,)\n",
        "\n",
        "\n",
        "class TimmUniversalEncoder(nn.Module):\n",
        "    def __init__(self, name, pretrained=True, in_channels=3, depth=5, output_stride=32):\n",
        "        super().__init__()\n",
        "        kwargs = dict( in_chans=in_channels,   features_only=True,  output_stride=output_stride,\n",
        "            pretrained=pretrained,   out_indices=tuple(range(depth)), )\n",
        "\n",
        "        if output_stride == 32:\n",
        "            kwargs.pop(\"output_stride\")\n",
        "\n",
        "        self.model = timm.create_model(name, **kwargs)\n",
        "        self._in_channels = in_channels\n",
        "        self._out_channels = [in_channels,] + self.model.feature_info.channels()\n",
        "        self._depth = depth\n",
        "        self._output_stride = output_stride\n",
        "\n",
        "    def forward(self, x):\n",
        "        features = self.model(x)\n",
        "        features = [ x, ] + features\n",
        "        return features\n",
        "\n",
        "    @property\n",
        "    def out_channels(self):\n",
        "        return self._out_channels\n",
        "\n",
        "    @property\n",
        "    def output_stride(self):\n",
        "        return min(self._output_stride, 2 ** self._depth)"
      ]
    },
    {
      "cell_type": "code",
      "execution_count": null,
      "metadata": {
        "colab": {
          "base_uri": "https://localhost:8080/"
        },
        "id": "whspgSTtbPxr",
        "outputId": "fde4a145-24ce-4822-c1c2-94fa465fa5aa"
      },
      "outputs": [
        {
          "output_type": "stream",
          "name": "stdout",
          "text": [
            "Looking in indexes: https://pypi.org/simple, https://us-python.pkg.dev/colab-wheels/public/simple/\n",
            "Collecting timm\n",
            "  Downloading timm-0.9.2-py3-none-any.whl (2.2 MB)\n",
            "\u001b[2K     \u001b[90m━━━━━━━━━━━━━━━━━━━━━━━━━━━━━━━━━━━━━━━━\u001b[0m \u001b[32m2.2/2.2 MB\u001b[0m \u001b[31m34.0 MB/s\u001b[0m eta \u001b[36m0:00:00\u001b[0m\n",
            "\u001b[?25hRequirement already satisfied: torch>=1.7 in /usr/local/lib/python3.10/dist-packages (from timm) (2.0.1+cu118)\n",
            "Requirement already satisfied: torchvision in /usr/local/lib/python3.10/dist-packages (from timm) (0.15.2+cu118)\n",
            "Requirement already satisfied: pyyaml in /usr/local/lib/python3.10/dist-packages (from timm) (6.0)\n",
            "Collecting huggingface-hub (from timm)\n",
            "  Downloading huggingface_hub-0.15.1-py3-none-any.whl (236 kB)\n",
            "\u001b[2K     \u001b[90m━━━━━━━━━━━━━━━━━━━━━━━━━━━━━━━━━━━━━━\u001b[0m \u001b[32m236.8/236.8 kB\u001b[0m \u001b[31m31.4 MB/s\u001b[0m eta \u001b[36m0:00:00\u001b[0m\n",
            "\u001b[?25hCollecting safetensors (from timm)\n",
            "  Downloading safetensors-0.3.1-cp310-cp310-manylinux_2_17_x86_64.manylinux2014_x86_64.whl (1.3 MB)\n",
            "\u001b[2K     \u001b[90m━━━━━━━━━━━━━━━━━━━━━━━━━━━━━━━━━━━━━━━━\u001b[0m \u001b[32m1.3/1.3 MB\u001b[0m \u001b[31m76.2 MB/s\u001b[0m eta \u001b[36m0:00:00\u001b[0m\n",
            "\u001b[?25hRequirement already satisfied: filelock in /usr/local/lib/python3.10/dist-packages (from torch>=1.7->timm) (3.12.0)\n",
            "Requirement already satisfied: typing-extensions in /usr/local/lib/python3.10/dist-packages (from torch>=1.7->timm) (4.5.0)\n",
            "Requirement already satisfied: sympy in /usr/local/lib/python3.10/dist-packages (from torch>=1.7->timm) (1.11.1)\n",
            "Requirement already satisfied: networkx in /usr/local/lib/python3.10/dist-packages (from torch>=1.7->timm) (3.1)\n",
            "Requirement already satisfied: jinja2 in /usr/local/lib/python3.10/dist-packages (from torch>=1.7->timm) (3.1.2)\n",
            "Requirement already satisfied: triton==2.0.0 in /usr/local/lib/python3.10/dist-packages (from torch>=1.7->timm) (2.0.0)\n",
            "Requirement already satisfied: cmake in /usr/local/lib/python3.10/dist-packages (from triton==2.0.0->torch>=1.7->timm) (3.25.2)\n",
            "Requirement already satisfied: lit in /usr/local/lib/python3.10/dist-packages (from triton==2.0.0->torch>=1.7->timm) (16.0.5)\n",
            "Requirement already satisfied: fsspec in /usr/local/lib/python3.10/dist-packages (from huggingface-hub->timm) (2023.4.0)\n",
            "Requirement already satisfied: requests in /usr/local/lib/python3.10/dist-packages (from huggingface-hub->timm) (2.27.1)\n",
            "Requirement already satisfied: tqdm>=4.42.1 in /usr/local/lib/python3.10/dist-packages (from huggingface-hub->timm) (4.65.0)\n",
            "Requirement already satisfied: packaging>=20.9 in /usr/local/lib/python3.10/dist-packages (from huggingface-hub->timm) (23.1)\n",
            "Requirement already satisfied: numpy in /usr/local/lib/python3.10/dist-packages (from torchvision->timm) (1.22.4)\n",
            "Requirement already satisfied: pillow!=8.3.*,>=5.3.0 in /usr/local/lib/python3.10/dist-packages (from torchvision->timm) (8.4.0)\n",
            "Requirement already satisfied: MarkupSafe>=2.0 in /usr/local/lib/python3.10/dist-packages (from jinja2->torch>=1.7->timm) (2.1.2)\n",
            "Requirement already satisfied: urllib3<1.27,>=1.21.1 in /usr/local/lib/python3.10/dist-packages (from requests->huggingface-hub->timm) (1.26.15)\n",
            "Requirement already satisfied: certifi>=2017.4.17 in /usr/local/lib/python3.10/dist-packages (from requests->huggingface-hub->timm) (2022.12.7)\n",
            "Requirement already satisfied: charset-normalizer~=2.0.0 in /usr/local/lib/python3.10/dist-packages (from requests->huggingface-hub->timm) (2.0.12)\n",
            "Requirement already satisfied: idna<4,>=2.5 in /usr/local/lib/python3.10/dist-packages (from requests->huggingface-hub->timm) (3.4)\n",
            "Requirement already satisfied: mpmath>=0.19 in /usr/local/lib/python3.10/dist-packages (from sympy->torch>=1.7->timm) (1.3.0)\n",
            "Installing collected packages: safetensors, huggingface-hub, timm\n",
            "Successfully installed huggingface-hub-0.15.1 safetensors-0.3.1 timm-0.9.2\n"
          ]
        }
      ],
      "source": [
        "pip install timm"
      ]
    },
    {
      "cell_type": "code",
      "execution_count": null,
      "metadata": {
        "id": "vW4YTL9LSUgN"
      },
      "outputs": [],
      "source": [
        "import os\n",
        "import sys\n",
        "import math\n",
        "\n",
        "import numpy as np\n",
        "\n",
        "import torch\n",
        "import torch.nn as  nn\n",
        "\n",
        "\n",
        "#from .utils import EncoderMixin\n",
        "from timm.models.resnet import ResNet\n",
        "from timm.models.resnet import Bottleneck\n",
        "\n",
        "\n",
        "\n",
        "class ResNestEncoder(ResNet, EncoderMixin):\n",
        "    def __init__(self, out_channels, depth=5, **kwargs):\n",
        "        super().__init__(**kwargs)\n",
        "        self._depth = depth\n",
        "        self._out_channels = out_channels\n",
        "        self._in_channels = 3\n",
        "\n",
        "        del self.fc\n",
        "        del self.global_pool\n",
        "\n",
        "    def get_stages(self):\n",
        "\n",
        "        return [\n",
        "            nn.Identity(), nn.Sequential(self.conv1, self.bn1, self.act1),\n",
        "            nn.Sequential(self.maxpool, self.layer1), self.layer2, self.layer3, self.layer4\n",
        "        ]\n",
        "\n",
        "    def make_dilated(self, *args, **kwargs):\n",
        "        raise ValueError(\"ResNest encoders do not support dilated mode\")\n",
        "\n",
        "    def forward(self, x):\n",
        "        stages = self.get_stages()\n",
        "        features = [ ]\n",
        "\n",
        "        for i in range(self._depth + 1):\n",
        "            x = stages[i](x)\n",
        "            features.append(x)\n",
        "        return features\n",
        "\n",
        "    def load_state_dict(self, state_dict, **kwargs):\n",
        "        state_dict.pop(\"fc.bias\", None)\n",
        "        state_dict.pop(\"fc.weight\", None)\n",
        "        super().load_state_dict(state_dict, **kwargs)\n",
        "\n",
        "\n",
        "resnest_weights = {\n",
        "    \"timm-resnest14d\": {\n",
        "        \"imagenet\": \"https://github.com/rwightman/pytorch-image-models/releases/download/v0.1-weights/gluon_resnest14-9c8fe254.pth\",  # noqa\n",
        "    },\n",
        "    \"timm-resnest26d\": {\n",
        "        \"imagenet\": \"https://github.com/rwightman/pytorch-image-models/releases/download/v0.1-weights/gluon_resnest26-50eb607c.pth\",  # noqa\n",
        "    },\n",
        "    \"timm-resnest50d\": {\n",
        "        \"imagenet\": \"https://github.com/rwightman/pytorch-image-models/releases/download/v0.1-resnest/resnest50-528c19ca.pth\",  # noqa\n",
        "    },\n",
        "    \"timm-resnest101e\": {\n",
        "        \"imagenet\": \"https://github.com/rwightman/pytorch-image-models/releases/download/v0.1-resnest/resnest101-22405ba7.pth\",  # noqa\n",
        "    },\n",
        "    \"timm-resnest200e\": {\n",
        "        \"imagenet\": \"https://github.com/rwightman/pytorch-image-models/releases/download/v0.1-resnest/resnest200-75117900.pth\",  # noqa\n",
        "    },\n",
        "    \"timm-resnest269e\": {\n",
        "        \"imagenet\": \"https://github.com/rwightman/pytorch-image-models/releases/download/v0.1-resnest/resnest269-0cc87c48.pth\",  # noqa\n",
        "    },\n",
        "    \"timm-resnest50d_4s2x40d\": {\n",
        "        \"imagenet\": \"https://github.com/rwightman/pytorch-image-models/releases/download/v0.1-resnest/resnest50_fast_4s2x40d-41d14ed0.pth\",  # noqa\n",
        "    },\n",
        "    \"timm-resnest50d_1s4x24d\": {\n",
        "        \"imagenet\": \"https://github.com/rwightman/pytorch-image-models/releases/download/v0.1-resnest/resnest50_fast_1s4x24d-d4a4f76f.pth\",  # noqa\n",
        "    },\n",
        "}\n",
        "\n",
        "\n",
        "pretrained_settings = {}\n",
        "for model_name, sources in resnest_weights.items():\n",
        "    pretrained_settings[model_name] = {}\n",
        "    for source_name, source_url in sources.items():\n",
        "        pretrained_settings[model_name][source_name] = {\n",
        "            \"url\": source_url,\n",
        "            \"input_size\": [3, 224, 224],\n",
        "            \"input_range\": [0, 1],\n",
        "            \"mean\": [0.485, 0.456, 0.406],\n",
        "            \"std\": [0.229, 0.224, 0.225],\n",
        "            \"num_classes\": 1000,\n",
        "        }\n",
        "\n",
        "\n",
        "timm_resnest_encoders = {\n",
        "    \"timm-resnest14d\": {\n",
        "        \"encoder\": ResNestEncoder,\n",
        "        \"pretrained_settings\": pretrained_settings[\"timm-resnest14d\"],\n",
        "        \"params\": {\n",
        "            \"out_channels\": (3, 64, 256, 512, 1024, 2048),\n",
        "            \"block\": Bottleneck,\n",
        "            \"layers\": [1, 1, 1, 1],\n",
        "            \"stem_type\": \"deep\",\n",
        "            \"stem_width\": 32,\n",
        "            \"avg_down\": True,\n",
        "            \"base_width\": 64,\n",
        "            \"cardinality\": 1,\n",
        "            \"block_args\": {\"radix\": 2, \"avd\": True, \"avd_first\": False},\n",
        "        },\n",
        "    },\n",
        "\n",
        "    \"timm-resnest26d\": {\n",
        "        \"encoder\": ResNestEncoder,\n",
        "        \"pretrained_settings\": pretrained_settings[\"timm-resnest26d\"],\n",
        "        \"params\": {\n",
        "            \"out_channels\": (3, 64, 256, 512, 1024, 2048),\n",
        "            \"block\": Bottleneck,\n",
        "            \"layers\": [2, 2, 2, 2],\n",
        "            \"stem_type\": \"deep\",\n",
        "            \"stem_width\": 32,\n",
        "            \"avg_down\": True,\n",
        "            \"base_width\": 64,\n",
        "            \"cardinality\": 1,\n",
        "            \"block_args\": {\"radix\": 2, \"avd\": True, \"avd_first\": False},\n",
        "        },\n",
        "    },\n",
        "\n",
        "    \"timm-resnest50d\": {\n",
        "        \"encoder\": ResNestEncoder,\n",
        "        \"pretrained_settings\": pretrained_settings[\"timm-resnest50d\"],\n",
        "        \"params\": {\n",
        "            \"out_channels\": (3, 64, 256, 512, 1024, 2048),\n",
        "            \"block\": Bottleneck,\n",
        "            \"layers\": [3, 4, 6, 3],\n",
        "            \"stem_type\": \"deep\",\n",
        "            \"stem_width\": 32,\n",
        "            \"avg_down\": True,\n",
        "            \"base_width\": 64,\n",
        "            \"cardinality\": 1,\n",
        "            \"block_args\": {\"radix\": 2, \"avd\": True, \"avd_first\": False},\n",
        "        },\n",
        "    },\n",
        "\n",
        "    \"timm-resnest101e\": {\n",
        "        \"encoder\": ResNestEncoder,\n",
        "        \"pretrained_settings\": pretrained_settings[\"timm-resnest101e\"],\n",
        "        \"params\": {\n",
        "            \"out_channels\": (3, 128, 256, 512, 1024, 2048),\n",
        "            \"block\": Bottleneck,\n",
        "            \"layers\": [3, 4, 23, 3],\n",
        "            \"stem_type\": \"deep\",\n",
        "            \"stem_width\": 64,\n",
        "            \"avg_down\": True,\n",
        "            \"base_width\": 64,\n",
        "            \"cardinality\": 1,\n",
        "            \"block_args\": {\"radix\": 2, \"avd\": True, \"avd_first\": False},\n",
        "        },\n",
        "    },\n",
        "\n",
        "     \"timm-resnest200e\": {\n",
        "        \"encoder\": ResNestEncoder,\n",
        "        \"pretrained_settings\": pretrained_settings[\"timm-resnest200e\"],\n",
        "        \"params\": {\n",
        "            \"out_channels\": (3, 128, 256, 512, 1024, 2048),\n",
        "            \"block\": Bottleneck,\n",
        "            \"layers\": [3, 24, 36, 3],\n",
        "            \"stem_type\": \"deep\",\n",
        "            \"stem_width\": 64,\n",
        "            \"avg_down\": True,\n",
        "            \"base_width\": 64,\n",
        "            \"cardinality\": 1,\n",
        "            \"block_args\": {\"radix\": 2, \"avd\": True, \"avd_first\": False},\n",
        "        },\n",
        "    },\n",
        "\n",
        "    \"timm-resnest269e\": {\n",
        "        \"encoder\": ResNestEncoder,\n",
        "        \"pretrained_settings\": pretrained_settings[\"timm-resnest269e\"],\n",
        "        \"params\": {\n",
        "            \"out_channels\": (3, 128, 256, 512, 1024, 2048),\n",
        "            \"block\": Bottleneck,\n",
        "            \"layers\": [3, 30, 48, 8],\n",
        "            \"stem_type\": \"deep\",\n",
        "            \"stem_width\": 64,\n",
        "            \"avg_down\": True,\n",
        "            \"base_width\": 64,\n",
        "            \"cardinality\": 1,\n",
        "            \"block_args\": {\"radix\": 2, \"avd\": True, \"avd_first\": False},\n",
        "        },\n",
        "    },\n",
        "\n",
        "    \"timm-resnest50d_4s2x40d\": {\n",
        "        \"encoder\": ResNestEncoder,\n",
        "        \"pretrained_settings\": pretrained_settings[\"timm-resnest50d_4s2x40d\"],\n",
        "        \"params\": {\n",
        "            \"out_channels\": (3, 64, 256, 512, 1024, 2048),\n",
        "            \"block\": Bottleneck,\n",
        "            \"layers\": [3, 4, 6, 3],\n",
        "            \"stem_type\": \"deep\",\n",
        "            \"stem_width\": 32,\n",
        "            \"avg_down\": True,\n",
        "            \"base_width\": 40,\n",
        "            \"cardinality\": 2,\n",
        "            \"block_args\": {\"radix\": 4, \"avd\": True, \"avd_first\": True},\n",
        "        },\n",
        "    },\n",
        "\n",
        "    \"timm-resnest50d_1s4x24d\": {\n",
        "        \"encoder\": ResNestEncoder,\n",
        "        \"pretrained_settings\": pretrained_settings[\"timm-resnest50d_1s4x24d\"],\n",
        "        \"params\": {\n",
        "            \"out_channels\": (3, 64, 256, 512, 1024, 2048),\n",
        "            \"block\": Bottleneck,\n",
        "            \"layers\": [3, 4, 6, 3],\n",
        "            \"stem_type\": \"deep\",\n",
        "            \"stem_width\": 32,\n",
        "            \"avg_down\": True,\n",
        "            \"base_width\": 24,\n",
        "            \"cardinality\": 4,\n",
        "            \"block_args\": {\"radix\": 1, \"avd\": True, \"avd_first\": True},\n",
        "        },\n",
        "    },\n",
        "}"
      ]
    },
    {
      "cell_type": "code",
      "execution_count": null,
      "metadata": {
        "id": "3gQWFzM6SB0D"
      },
      "outputs": [],
      "source": [
        "import os\n",
        "import sys\n",
        "import math\n",
        "\n",
        "import numpy as np\n",
        "\n",
        "from copy import deepcopy\n",
        "\n",
        "import torch\n",
        "import torch.nn as nn\n",
        "\n",
        "from torchvision.models.resnet import ResNet\n",
        "from torchvision.models.resnet import Bottleneck\n",
        "from torchvision.models.resnet import BasicBlock\n",
        "#from pretrainedmodels.models.torchvision_models import pretrained_settings\n",
        "\n",
        "#from .utils import EncoderMixin\n",
        "\n",
        "\n",
        "class ResNetEncoder(ResNet, EncoderMixin):\n",
        "    def __init__(self, out_channels, depth=5, **kwargs):\n",
        "        super().__init__(**kwargs)\n",
        "\n",
        "        self._depth = depth\n",
        "        self._out_channels = out_channels\n",
        "        self._in_channels = 3\n",
        "\n",
        "        del self.fc\n",
        "        del self.avgpool\n",
        "\n",
        "    def get_stages(self):\n",
        "        return [\n",
        "            nn.Identity(),\n",
        "            nn.Sequential(self.conv1, self.bn1, self.relu),\n",
        "            nn.Sequential(self.maxpool, self.layer1),\n",
        "            self.layer2,\n",
        "            self.layer3,\n",
        "            self.layer4,\n",
        "        ]\n",
        "\n",
        "    def forward(self, x):\n",
        "        stages = self.get_stages()\n",
        "\n",
        "        features = [ ]\n",
        "        for i in range(self._depth + 1):\n",
        "            x = stages[i](x)\n",
        "            features.append(x)\n",
        "        return features\n",
        "\n",
        "    def load_state_dict(self, state_dict, **kwargs):\n",
        "        state_dict.pop(\"fc.bias\", None)\n",
        "        state_dict.pop(\"fc.weight\", None)\n",
        "        super().load_state_dict(state_dict, **kwargs)\n",
        "\n",
        "\n",
        "\n",
        "new_settings = {\n",
        "    \"resnet18\": {\n",
        "        \"ssl\": \"https://dl.fbaipublicfiles.com/semiweaksupervision/model_files/semi_supervised_resnet18-d92f0530.pth\",  # noqa\n",
        "        \"swsl\": \"https://dl.fbaipublicfiles.com/semiweaksupervision/model_files/semi_weakly_supervised_resnet18-118f1556.pth\",  # noqa\n",
        "    },\n",
        "\n",
        "    \"resnet50\": {\n",
        "        \"ssl\": \"https://dl.fbaipublicfiles.com/semiweaksupervision/model_files/semi_supervised_resnet50-08389792.pth\",  # noqa\n",
        "        \"swsl\": \"https://dl.fbaipublicfiles.com/semiweaksupervision/model_files/semi_weakly_supervised_resnet50-16a12f1b.pth\",  # noqa\n",
        "    },\n",
        "\n",
        "     \"resnext50_32x4d\": {\n",
        "        \"imagenet\": \"https://download.pytorch.org/models/resnext50_32x4d-7cdf4587.pth\",\n",
        "        \"ssl\": \"https://dl.fbaipublicfiles.com/semiweaksupervision/model_files/semi_supervised_resnext50_32x4-ddb3e555.pth\",  # noqa\n",
        "        \"swsl\": \"https://dl.fbaipublicfiles.com/semiweaksupervision/model_files/semi_weakly_supervised_resnext50_32x4-72679e44.pth\",  # noqa\n",
        "    },\n",
        "    \"resnext101_32x4d\": {\n",
        "        \"ssl\": \"https://dl.fbaipublicfiles.com/semiweaksupervision/model_files/semi_supervised_resnext101_32x4-dc43570a.pth\",  # noqa\n",
        "        \"swsl\": \"https://dl.fbaipublicfiles.com/semiweaksupervision/model_files/semi_weakly_supervised_resnext101_32x4-3f87e46b.pth\",  # noqa\n",
        "    },\n",
        "    \"resnext101_32x8d\": {\n",
        "        \"imagenet\": \"https://download.pytorch.org/models/resnext101_32x8d-8ba56ff5.pth\",\n",
        "        \"instagram\": \"https://download.pytorch.org/models/ig_resnext101_32x8-c38310e5.pth\",\n",
        "        \"ssl\": \"https://dl.fbaipublicfiles.com/semiweaksupervision/model_files/semi_supervised_resnext101_32x8-2cfe2f8b.pth\",  # noqa\n",
        "        \"swsl\": \"https://dl.fbaipublicfiles.com/semiweaksupervision/model_files/semi_weakly_supervised_resnext101_32x8-b4712904.pth\",  # noqa\n",
        "    },\n",
        "    \"resnext101_32x16d\": {\n",
        "        \"instagram\": \"https://download.pytorch.org/models/ig_resnext101_32x16-c6f796b0.pth\",\n",
        "        \"ssl\": \"https://dl.fbaipublicfiles.com/semiweaksupervision/model_files/semi_supervised_resnext101_32x16-15fffa57.pth\",  # noqa\n",
        "        \"swsl\": \"https://dl.fbaipublicfiles.com/semiweaksupervision/model_files/semi_weakly_supervised_resnext101_32x16-f3559a9c.pth\",  # noqa\n",
        "    },\n",
        "    \"resnext101_32x32d\": {\n",
        "        \"instagram\": \"https://download.pytorch.org/models/ig_resnext101_32x32-e4b90b00.pth\",\n",
        "    },\n",
        "    \"resnext101_32x48d\": {\n",
        "        \"instagram\": \"https://download.pytorch.org/models/ig_resnext101_32x48-3e41cc8a.pth\",\n",
        "    },\n",
        "}\n",
        "\n",
        "\n",
        "pretrained_settings = deepcopy(pretrained_settings)\n",
        "\n",
        "for model_name, sources in new_settings.items():\n",
        "    if model_name not in pretrained_settings:\n",
        "        pretrained_settings[model_name] = {}\n",
        "\n",
        "    for source_name, source_url in sources.items():\n",
        "        pretrained_settings[model_name][source_name] = {\n",
        "            \"url\": source_url,\n",
        "            \"input_size\": [3, 224, 224],\n",
        "            \"input_range\": [0, 1],\n",
        "            \"mean\": [0.485, 0.456, 0.406],\n",
        "            \"std\": [0.229, 0.224, 0.225],\n",
        "            \"num_classes\": 1000,\n",
        "        }\n",
        "\n",
        "resnet_encoders = {\n",
        "    \"resnet18\": {\n",
        "        \"encoder\": ResNetEncoder,\n",
        "        \"pretrained_settings\": pretrained_settings[\"resnet18\"],\n",
        "        \"params\": {\n",
        "            \"out_channels\": (3, 64, 64, 128, 256, 512),\n",
        "            \"block\": BasicBlock,\n",
        "            \"layers\": [2, 2, 2, 2],\n",
        "        },\n",
        "    },\n",
        "    #\"resnet34\": {\n",
        "        #\"encoder\": ResNetEncoder,\n",
        "        #\"pretrained_settings\": pretrained_settings[\"resnet34\"],\n",
        "        #\"params\": {\n",
        "            #\"out_channels\": (3, 64, 64, 128, 256, 512),\n",
        "            #\"block\": BasicBlock,\n",
        "            #\"layers\": [3, 4, 6, 3],\n",
        "        #},\n",
        "    #},\n",
        "    \"resnet50\": {\n",
        "        \"encoder\": ResNetEncoder,\n",
        "        \"pretrained_settings\": pretrained_settings[\"resnet50\"],\n",
        "        \"params\": {\n",
        "            \"out_channels\": (3, 64, 256, 512, 1024, 2048),\n",
        "            \"block\": Bottleneck,\n",
        "            \"layers\": [3, 4, 6, 3],\n",
        "        },\n",
        "    },\n",
        "    #\"resnet101\": {\n",
        "        #\"encoder\": ResNetEncoder,\n",
        "        #\"pretrained_settings\": pretrained_settings[\"resnet101\"],\n",
        "        #\"params\": {\n",
        "            #\"out_channels\": (3, 64, 256, 512, 1024, 2048),\n",
        "            #\"block\": Bottleneck,\n",
        "            #\"layers\": [3, 4, 23, 3],\n",
        "        #},\n",
        "    #},\n",
        "    #\"resnet152\": {\n",
        "        #\"encoder\": ResNetEncoder,\n",
        "        #\"pretrained_settings\": pretrained_settings[\"resnet152\"],\n",
        "        #\"params\": {\n",
        "            #\"out_channels\": (3, 64, 256, 512, 1024, 2048),\n",
        "            #\"block\": Bottleneck,\n",
        "            #\"layers\": [3, 8, 36, 3],\n",
        "        #},\n",
        "    #},\n",
        "    \"resnext50_32x4d\": {\n",
        "        \"encoder\": ResNetEncoder,\n",
        "        \"pretrained_settings\": pretrained_settings[\"resnext50_32x4d\"],\n",
        "        \"params\": {\n",
        "            \"out_channels\": (3, 64, 256, 512, 1024, 2048),\n",
        "            \"block\": Bottleneck,\n",
        "            \"layers\": [3, 4, 6, 3],\n",
        "            \"groups\": 32,\n",
        "            \"width_per_group\": 4,\n",
        "        },\n",
        "    },\n",
        "    \"resnext101_32x4d\": {\n",
        "        \"encoder\": ResNetEncoder,\n",
        "        \"pretrained_settings\": pretrained_settings[\"resnext101_32x4d\"],\n",
        "        \"params\": {\n",
        "            \"out_channels\": (3, 64, 256, 512, 1024, 2048),\n",
        "            \"block\": Bottleneck,\n",
        "            \"layers\": [3, 4, 23, 3],\n",
        "            \"groups\": 32,\n",
        "            \"width_per_group\": 4,\n",
        "        },\n",
        "    },\n",
        "    \"resnext101_32x8d\": {\n",
        "        \"encoder\": ResNetEncoder,\n",
        "        \"pretrained_settings\": pretrained_settings[\"resnext101_32x8d\"],\n",
        "        \"params\": {\n",
        "            \"out_channels\": (3, 64, 256, 512, 1024, 2048),\n",
        "            \"block\": Bottleneck,\n",
        "            \"layers\": [3, 4, 23, 3],\n",
        "            \"groups\": 32,\n",
        "            \"width_per_group\": 8,\n",
        "        },\n",
        "    },\n",
        "    \"resnext101_32x16d\": {\n",
        "        \"encoder\": ResNetEncoder,\n",
        "        \"pretrained_settings\": pretrained_settings[\"resnext101_32x16d\"],\n",
        "        \"params\": {\n",
        "            \"out_channels\": (3, 64, 256, 512, 1024, 2048),\n",
        "            \"block\": Bottleneck,\n",
        "            \"layers\": [3, 4, 23, 3],\n",
        "            \"groups\": 32,\n",
        "            \"width_per_group\": 16,\n",
        "        },\n",
        "    },\n",
        "    \"resnext101_32x32d\": {\n",
        "        \"encoder\": ResNetEncoder,\n",
        "        \"pretrained_settings\": pretrained_settings[\"resnext101_32x32d\"],\n",
        "        \"params\": {\n",
        "            \"out_channels\": (3, 64, 256, 512, 1024, 2048),\n",
        "            \"block\": Bottleneck,\n",
        "            \"layers\": [3, 4, 23, 3],\n",
        "            \"groups\": 32,\n",
        "            \"width_per_group\": 32,\n",
        "        },\n",
        "    },\n",
        "    \"resnext101_32x48d\": {\n",
        "        \"encoder\": ResNetEncoder,\n",
        "        \"pretrained_settings\": pretrained_settings[\"resnext101_32x48d\"],\n",
        "        \"params\": {\n",
        "            \"out_channels\": (3, 64, 256, 512, 1024, 2048),\n",
        "            \"block\": Bottleneck,\n",
        "            \"layers\": [3, 4, 23, 3],\n",
        "            \"groups\": 32,\n",
        "            \"width_per_group\": 48,\n",
        "        },\n",
        "    },\n",
        "}"
      ]
    },
    {
      "cell_type": "code",
      "execution_count": null,
      "metadata": {
        "id": "4VfQEJhvRnmD"
      },
      "outputs": [],
      "source": [
        "\n",
        "import os\n",
        "import sys\n",
        "import math\n",
        "import time\n",
        "import functools\n",
        "\n",
        "\n",
        "import numpy as np\n",
        "\n",
        "import torch.utils.model_zoo as model_zoo\n",
        "\n",
        "#from .resnet import resnet_encoders\n",
        "#from .utils import preprocess_input, TimmUniversalEncoder\n",
        "#from .timm_resnet import timm_resnest_encoders\n",
        "\n",
        "\n",
        "encoders = {}\n",
        "encoders.update(resnet_encoders)\n",
        "\n",
        "def get_encoder(name, in_channels=3, depth=5, weights=None, output_stride=32, **kwargs):\n",
        "\n",
        "    try:\n",
        "        Encoder = encoders[name][\"encoder\"]\n",
        "    except KeyError:\n",
        "        raise KeyError(\"Wrong encoder name `{}`, supported encoders: {}\".format(name, list(encoders.keys())))\n",
        "\n",
        "    params = encoders[name][\"params\"]\n",
        "    params.update(depth=depth)\n",
        "    encoder = Encoder(**params)\n",
        "\n",
        "    if weights is not None:\n",
        "        try:\n",
        "            settings = encoders[name][\"pretrained_settings\"][weights]\n",
        "\n",
        "        except KeyError:\n",
        "            raise KeyError(\n",
        "                \"Wrong pretrained weights `{}` for encoder `{}`. Available options are: {}\".format(\n",
        "                    weights,\n",
        "                    name,\n",
        "                    list(encoders[name][\"pretrained_settings\"].keys()),\n",
        "                )\n",
        "            )\n",
        "        encoder.load_state_dict(model_zoo.load_url(settings[\"url\"]))\n",
        "\n",
        "    encoder.set_in_channels(in_channels, pretrained=weights is not None)\n",
        "\n",
        "    if output_stride != 32:\n",
        "        encoder.make_dilated(output_stride)\n",
        "\n",
        "    return encoder\n",
        "\n",
        "\n",
        "def get_encoder_names():\n",
        "    return list(encoders.keys())\n",
        "\n",
        "\n",
        "def get_preprocessing_params(encoder_name, pretrained=\"imagenet\"):\n",
        "\n",
        "    all_settings = encoders[encoder_name][\"pretrained_settings\"]\n",
        "    if pretrained not in all_settings.keys():\n",
        "        raise ValueError(\"Available pretrained options {}\".format(all_settings.keys()))\n",
        "\n",
        "    settings = all_settings[pretrained]\n",
        "\n",
        "    formatted_settings = {}\n",
        "    formatted_settings[\"input_space\"] = settings.get(\"input_space\", \"RGB\")\n",
        "    formatted_settings[\"input_range\"] = list(settings.get(\"input_range\", [0, 1]))\n",
        "    formatted_settings[\"mean\"] = list(settings.get(\"mean\"))\n",
        "    formatted_settings[\"std\"] = list(settings.get(\"std\"))\n",
        "\n",
        "    return formatted_settings\n",
        "\n",
        "\n",
        "def get_preprocessing_fn(encoder_name, pretrained=\"imagenet\"):\n",
        "    params = get_preprocessing_params(encoder_name, pretrained=pretrained)\n",
        "    return functools.partial(preprocess_input, **params)"
      ]
    },
    {
      "cell_type": "code",
      "source": [
        "#image augmentation\n",
        "import torchvision.transforms as transforms\n",
        "mean=0.5\n",
        "std_deviation=0.5\n",
        "\n",
        "CHANNELS_IMG=3\n",
        "transforms = transforms.Compose(\n",
        "    [\n",
        "        transforms.RandomResizedCrop(224),\n",
        "        transforms.RandomHorizontalFlip(),\n",
        "        transforms.Resize(256),\n",
        "        transforms.ToTensor(),\n",
        "        transforms.Normalize([mean for _ in range(CHANNELS_IMG)],[std_deviation for _ in range(CHANNELS_IMG)]),\n",
        "\n",
        "     ]\n",
        ")"
      ],
      "metadata": {
        "id": "ZiwobdX_XF01"
      },
      "execution_count": null,
      "outputs": []
    },
    {
      "cell_type": "code",
      "execution_count": null,
      "metadata": {
        "colab": {
          "base_uri": "https://localhost:8080/"
        },
        "id": "mwlx1_JXV4A4",
        "outputId": "891b1957-ffef-42ea-b7dc-be16419f015d"
      },
      "outputs": [
        {
          "output_type": "stream",
          "name": "stdout",
          "text": [
            "433\n",
            "torch.Size([3, 640, 640]) torch.Size([1, 640, 640]) tensor(2.6400, dtype=torch.float64) tensor(1.) tensor(-2.1179, dtype=torch.float64) tensor(0.)\n"
          ]
        }
      ],
      "source": [
        "import os\n",
        "import sys\n",
        "import math\n",
        "\n",
        "import cv2\n",
        "import glob\n",
        "import random\n",
        "\n",
        "import numpy as np\n",
        "\n",
        "import torch\n",
        "import torch.utils.data as data\n",
        "\n",
        "\n",
        "class BrainTumorDataset(data.Dataset):\n",
        "    def __init__(self, datafolder='/content/gdrive/MyDrive/train_new', transforms = transforms, train=True,\n",
        "                        image_size=(640, 640), train_test_ratio=0.15, preprocessing_fun=None):\n",
        "        super().__init__()\n",
        "\n",
        "        self.train = train\n",
        "        self.transform = transforms\n",
        "        self.image_size = image_size\n",
        "        self.train_test_ratio = train_test_ratio\n",
        "        self.preprocessing_fun = preprocessing_fun\n",
        "\n",
        "        image_names = [ ]\n",
        "        image_names_jpg = glob.glob(os.path.join(datafolder, '*.jpg'))\n",
        "        image_names_jpeg = glob.glob(os.path.join(datafolder, '*.jpeg'))\n",
        "        image_names_png  = glob.glob(os.path.join(datafolder, '*.png'))\n",
        "        image_names.extend(image_names_jpg)\n",
        "        image_names.extend(image_names_jpeg)\n",
        "        image_names.extend(image_names_png)\n",
        "\n",
        "        Num_testSamples = int(train_test_ratio*len(image_names))\n",
        "        random.seed(42)\n",
        "        random.shuffle(image_names)\n",
        "\n",
        "        if self.train:\n",
        "            self.image_names = image_names[Num_testSamples:]\n",
        "        else:\n",
        "            self.image_names = image_names[:Num_testSamples]\n",
        "\n",
        "    def __len__(self):\n",
        "        return len(self.image_names)\n",
        "\n",
        "    def read_image(self, image_name):\n",
        "        img = cv2.imread(image_name, cv2.IMREAD_GRAYSCALE)\n",
        "        try:\n",
        "            Img = cv2.resize(img, self.image_size, cv2.INTER_CUBIC)\n",
        "            Img = 255.0*(Img/ Img.max())\n",
        "            return Img\n",
        "        except:\n",
        "            raise ValueError('Image not found')\n",
        "\n",
        "    def add_rice_noise(self, img, snr=10, mu=0.1, sigma=1):\n",
        "        level = snr* np.max(img) / 100\n",
        "        size = img.shape\n",
        "        x = level* np.random.normal(mu, sigma, size=size) + img\n",
        "        y = level * np.random.normal(mu, sigma, size=size)\n",
        "        return np.sqrt(x**2 + y**2).astype(np.int16)\n",
        "\n",
        "    def __getitem__(self, index):\n",
        "\n",
        "        image_name = self.image_names[index]\n",
        "        Img = self.read_image(image_name)\n",
        "        Img_noisy = self.add_rice_noise(Img)\n",
        "\n",
        "        Img_noisy = np.stack([Img_noisy, Img_noisy, Img_noisy], axis=-1)\n",
        "        Img = np.expand_dims(Img, axis=-1)\n",
        "\n",
        "\n",
        "        Img = torch.from_numpy(Img).to(torch.float32)\n",
        "        Img_noisy = torch.from_numpy(Img_noisy).to(torch.float32)\n",
        "\n",
        "        Img = Img/ Img.max()\n",
        "        Img_noisy = (Img_noisy - Img_noisy.min()) / (Img_noisy.max() - Img_noisy.min())\n",
        "        if self.preprocessing_fun:\n",
        "            Img_noisy = self.preprocessing_fun(Img_noisy)\n",
        "\n",
        "        Img_noisy = Img_noisy.permute(2, 0, 1)\n",
        "        Img = Img.permute(2, 0, 1)\n",
        "        return Img_noisy, Img\n",
        "\n",
        "\n",
        "\n",
        "\n",
        "if __name__ == '__main__':\n",
        "    #from encoder.encoder_model import get_preprocessing_fn\n",
        "    encoder_name = 'resnet18'\n",
        "    preprocessing =  get_preprocessing_fn(encoder_name=encoder_name, pretrained='ssl')\n",
        "    dataset = BrainTumorDataset(preprocessing_fun=preprocessing)\n",
        "    print(len(dataset))\n",
        "    Img_noisy, Img = dataset[0]\n",
        "    print(Img_noisy.shape, Img.shape, Img_noisy.max(), Img.max(), Img_noisy.min(), Img.min())\n",
        "\n",
        "    #cv2.imshow('noisy image', np.uint8(255*Img_noisy.numpy().transpose(1, 2, 0)[:,:, 0]))\n",
        "    #cv2.imshow('ground image', np.uint8(255*Img.numpy().transpose(1, 2, 0)))\n",
        "    cv2.waitKey(0)\n",
        "    cv2.destroyAllWindows()"
      ]
    },
    {
      "cell_type": "code",
      "execution_count": null,
      "metadata": {
        "id": "4AyyY4R9WZCu"
      },
      "outputs": [],
      "source": [
        "import os\n",
        "import sys\n",
        "import math\n",
        "\n",
        "import numpy as np\n",
        "\n",
        "import torch\n",
        "import torch.nn as nn\n",
        "\n",
        "def initialize_decoder(module):\n",
        "    for m in module.modules():\n",
        "\n",
        "        if isinstance(m, nn.Conv2d):\n",
        "            nn.init.kaiming_uniform_(m.weight, mode=\"fan_in\", nonlinearity=\"relu\")\n",
        "            if m.bias is not None:\n",
        "                nn.init.constant_(m.bias, 0)\n",
        "\n",
        "        elif isinstance(m, nn.BatchNorm2d):\n",
        "            nn.init.constant_(m.weight, 1)\n",
        "            nn.init.constant_(m.bias, 0)\n",
        "\n",
        "        elif isinstance(m, nn.Linear):\n",
        "            nn.init.xavier_uniform_(m.weight)\n",
        "            if m.bias is not None:\n",
        "                nn.init.constant_(m.bias, 0)\n",
        "\n",
        "\n",
        "def initialize_head(module):\n",
        "    for m in module.modules():\n",
        "        if isinstance(m, (nn.Linear, nn.Conv2d)):\n",
        "            nn.init.xavier_uniform_(m.weight)\n",
        "            if m.bias is not None:\n",
        "                nn.init.constant_(m.bias, 0)"
      ]
    },
    {
      "cell_type": "code",
      "execution_count": null,
      "metadata": {
        "id": "JU7YU89OopW_"
      },
      "outputs": [],
      "source": [
        "import os\n",
        "import sys\n",
        "import math\n",
        "\n",
        "import numpy as np\n",
        "\n",
        "import torch\n",
        "import torch.nn as nn\n",
        "import torch.nn.functional as F\n",
        "\n",
        "try:\n",
        "    from inplace_abn import InPlaceABN\n",
        "except ImportError:\n",
        "    InPlaceABN = None\n",
        "\n",
        "class Conv2dReLU(nn.Sequential):\n",
        "    def __init__( self,   in_channels,   out_channels, kernel_size, padding=0,   stride=1,   use_batchnorm=True, ):\n",
        "        conv = nn.Conv2d(in_channels,   out_channels,  kernel_size,\n",
        "                  stride=stride,   padding=padding,  bias=not (use_batchnorm), )\n",
        "\n",
        "        relu = nn.ReLU(inplace=True)\n",
        "        if use_batchnorm:\n",
        "            bn = nn.BatchNorm2d(out_channels)\n",
        "        else:\n",
        "            bn = nn.Identity()\n",
        "        super(Conv2dReLU, self).__init__(conv, bn, relu)\n",
        "\n",
        "\n",
        "class SCSEModule(nn.Module):\n",
        "    def __init__(self, in_channels, reduction=16):\n",
        "        super().__init__()\n",
        "        self.cSE = nn.Sequential(\n",
        "            nn.AdaptiveAvgPool2d(1),\n",
        "            nn.Conv2d(in_channels, in_channels//reduction, 1),\n",
        "            nn.ReLU(inplace=True),\n",
        "            nn.Conv2d(in_channels//reduction, in_channels, 1),\n",
        "            nn.Sigmoid()\n",
        "        )\n",
        "\n",
        "        self.sSE =  nn.Sequential(nn.Conv2d(in_channels, 1, 1), nn.Sigmoid())\n",
        "\n",
        "    def forward(self, x):\n",
        "        return x * self.cSE(x) + x * self.sSE(x)\n",
        "\n",
        "\n",
        "class DecoderBlock(nn.Module):\n",
        "    def __init__( self,  in_channels,  skip_channels,  out_channels,  use_batchnorm=True):\n",
        "        super().__init__()\n",
        "\n",
        "        self.conv1 = Conv2dReLU( in_channels + skip_channels, out_channels, kernel_size=3, padding=1,\n",
        "                                 use_batchnorm=use_batchnorm, )\n",
        "\n",
        "        self.attention1 = SCSEModule(in_channels=in_channels + skip_channels)\n",
        "        self.conv2 = Conv2dReLU( out_channels, out_channels, kernel_size=3, padding=1, use_batchnorm=use_batchnorm,)\n",
        "        self.attention2 = SCSEModule( in_channels=out_channels)\n",
        "\n",
        "    def forward(self, x, skip=None):\n",
        "        x = F.interpolate(x, scale_factor=2, mode=\"nearest\")\n",
        "        if skip is not None:\n",
        "            x = torch.cat([x, skip], dim=1)\n",
        "            x = self.attention1(x)\n",
        "\n",
        "        x = self.conv1(x)\n",
        "        x = self.conv2(x)\n",
        "        x = self.attention2(x)\n",
        "        return x\n",
        "\n",
        "\n",
        "class UnetDecoder(nn.Module):\n",
        "    def __init__( self, encoder_channels, decoder_channels, n_blocks=5, use_batchnorm=True,):\n",
        "        super().__init__()\n",
        "\n",
        "        if n_blocks != len(decoder_channels):\n",
        "            raise ValueError(\"Model depth is {}, but you provide `decoder_channels` for {} blocks.\".format(\n",
        "                    n_blocks, len(decoder_channels)))\n",
        "\n",
        "        encoder_channels = encoder_channels[1:]\n",
        "        encoder_channels = encoder_channels[::-1]\n",
        "\n",
        "        head_channels = encoder_channels[0]\n",
        "        in_channels = [head_channels] + list(decoder_channels[:-1])\n",
        "        skip_channels = list(encoder_channels[1:]) + [0]\n",
        "        out_channels = decoder_channels\n",
        "\n",
        "        blocks = [ DecoderBlock(in_ch, skip_ch, out_ch, use_batchnorm=use_batchnorm)\n",
        "            for in_ch, skip_ch, out_ch in zip(in_channels, skip_channels, out_channels)\n",
        "        ]\n",
        "        self.blocks = nn.ModuleList(blocks)\n",
        "\n",
        "    def forward(self, *features):\n",
        "\n",
        "        features = features[1:]\n",
        "        features = features[::-1]\n",
        "        x = features[0]\n",
        "        skips = features[1:]\n",
        "\n",
        "        for i, decoder_block in enumerate(self.blocks):\n",
        "            skip = skips[i] if i < len(skips) else None\n",
        "            x = decoder_block(x, skip)\n",
        "        return x\n",
        "\n",
        "\n",
        "#if __name__ == '__main__':\n",
        "    #model = UnetDecoder()"
      ]
    },
    {
      "cell_type": "code",
      "execution_count": null,
      "metadata": {
        "id": "eLSLNzT6X-Mu"
      },
      "outputs": [],
      "source": [
        "import os\n",
        "import sys\n",
        "import math\n",
        "\n",
        "\n",
        "import numpy as np\n",
        "\n",
        "from typing import List\n",
        "\n",
        "import torch\n",
        "import torch.nn as nn\n",
        "\n",
        "#from encoder.encoder_model import get_encoder\n",
        "#from modules import UnetDecoder\n",
        "#from initialization import initialize_decoder, initialize_head\n",
        "\n",
        "\n",
        "class OutputLayer(nn.Sequential):\n",
        "    def __init__(self, in_channels, out_channels, kernel_size=3, activation=None):\n",
        "        conv2d = nn.Conv2d(in_channels, out_channels, kernel_size=kernel_size, padding=kernel_size // 2)\n",
        "        super().__init__(conv2d)\n",
        "\n",
        "\n",
        "\n",
        "\n",
        "class UNeT(nn.Module):\n",
        "    def __init__(self, encoder_name: str = \"resnet18\",  encoder_depth: int = 5,in_channels: int = 3,\n",
        "                   decoder_channels: List[int] = (256, 128, 64, 32, 16),):\n",
        "        super().__init__()\n",
        "\n",
        "        self.encoder = get_encoder(encoder_name, in_channels=in_channels, depth=encoder_depth)\n",
        "        self.decoder = UnetDecoder(self.encoder.out_channels, decoder_channels=decoder_channels, n_blocks= encoder_depth)\n",
        "        self.output  = OutputLayer(decoder_channels[-1], out_channels=1)\n",
        "        self.iniitialize()\n",
        "\n",
        "    def check_input_shape(self, x):\n",
        "        h, w = x.shape[-2:]\n",
        "        output_stride = self.encoder.output_stride\n",
        "        if h % output_stride != 0 or w % output_stride != 0:\n",
        "            new_h = (h // output_stride + 1) * output_stride if h % output_stride != 0 else h\n",
        "            new_w = (w // output_stride + 1) * output_stride if w % output_stride != 0 else w\n",
        "            raise RuntimeError(f\"Wrong input shape height={h}, width={w}. Expected image height and width \"\n",
        "                f\"divisible by {output_stride}. Consider pad your images to shape ({new_h}, {new_w}).\")\n",
        "\n",
        "    def iniitialize(self):\n",
        "        initialize_decoder(self.decoder)\n",
        "        initialize_head(self.output)\n",
        "\n",
        "    def forward(self, x):\n",
        "        self.check_input_shape(x)\n",
        "        features = self.encoder(x)\n",
        "        decoder_output = self.decoder(*features)\n",
        "        output = self.output(decoder_output)\n",
        "        return output\n",
        "\n",
        "if __name__ == '__main__':\n",
        "    model  =UNeT()\n",
        "    #print(model)\n",
        "\n",
        "    x = torch.randn(1, 3, 224, 224)\n",
        "    out = model(x)\n",
        "    #print(out.shape)"
      ]
    },
    {
      "cell_type": "code",
      "source": [
        "# !pip install torchview"
      ],
      "metadata": {
        "id": "23Tb91u8Qlgl"
      },
      "execution_count": null,
      "outputs": []
    },
    {
      "cell_type": "code",
      "source": [
        "# from torchview import draw_graph\n",
        "# import graphviz\n",
        "\n",
        "# # when running on VSCode run the below command\n",
        "# # svg format on vscode does not give desired result\n",
        "# graphviz.set_jupyter_format('png')\n",
        "# model_graph = draw_graph(model, input_size=(32,3,640,640), device='meta',expand_nested=False)\n",
        "# model_graph.visual_graph"
      ],
      "metadata": {
        "id": "UAam9CB8QVRb"
      },
      "execution_count": null,
      "outputs": []
    },
    {
      "cell_type": "code",
      "execution_count": null,
      "metadata": {
        "id": "OyQHuYjepAVc"
      },
      "outputs": [],
      "source": [
        "import os\n",
        "import sys\n",
        "import math\n",
        "\n",
        "import cv2\n",
        "\n",
        "import numpy as np\n",
        "\n",
        "\n",
        "import torch\n",
        "import torch.nn as nn\n",
        "\n",
        "import torchvision\n",
        "\n",
        "class VGGPerceptualLoss(torch.nn.Module):\n",
        "    def __init__(self, resize=True):\n",
        "        super(VGGPerceptualLoss, self).__init__()\n",
        "        blocks = [ ]\n",
        "        blocks.append(torchvision.models.vgg16(pretrained=True).features[:4].eval())\n",
        "        blocks.append(torchvision.models.vgg16(pretrained=True).features[4:9].eval())\n",
        "        blocks.append(torchvision.models.vgg16(pretrained=True).features[9:16].eval())\n",
        "        blocks.append(torchvision.models.vgg16(pretrained=True).features[16:23].eval())\n",
        "\n",
        "        for bl in blocks:\n",
        "            for p in bl.parameters():\n",
        "                p.requires_grad = False\n",
        "\n",
        "        self.blocks = torch.nn.ModuleList(blocks)\n",
        "        self.transform = torch.nn.functional.interpolate\n",
        "        self.resize = resize\n",
        "        self.register_buffer(\"mean\", torch.tensor([0.485, 0.456, 0.406]).view(1, 3, 1, 1))\n",
        "        self.register_buffer(\"std\", torch.tensor([0.229, 0.224, 0.225]).view(1, 3, 1, 1))\n",
        "\n",
        "    def forward(self, input_image, target, feature_layers=[0, 1, 2, 3], style_layers=[]):\n",
        "        if input_image.shape[1] != 3:\n",
        "            input_image = input_image.repeat(1, 3, 1, 1)\n",
        "            target = target.repeat(1, 3, 1, 1)\n",
        "\n",
        "        input_image = (input_image - self.mean) / self.std\n",
        "        target = (target - self.mean) / self.std\n",
        "        if self.resize:\n",
        "            input_image = self.transform(input_image, mode='bilinear', size=(224, 224), align_corners=False)\n",
        "            target = self.transform(target, mode='bilinear', size=(224, 224), align_corners=False)\n",
        "\n",
        "        loss = 0.0\n",
        "        x = input_image\n",
        "        y = target\n",
        "        for i, block in enumerate(self.blocks):\n",
        "            x = block(x)\n",
        "            y = block(y)\n",
        "            if i in feature_layers:\n",
        "                loss += torch.nn.functional.l1_loss(x, y)\n",
        "\n",
        "            if i in style_layers:\n",
        "                act_x = x.reshape(x.shape[0], x.shape[1], -1)\n",
        "                act_y = y.reshape(y.shape[0], y.shape[1], -1)\n",
        "                gram_x = act_x @ act_x.permute(0, 2, 1)\n",
        "                gram_y = act_y @ act_y.permute(0, 2, 1)\n",
        "                loss += torch.nn.functional.l1_loss(gram_x, gram_y)\n",
        "\n",
        "        return loss"
      ]
    },
    {
      "cell_type": "code",
      "execution_count": null,
      "metadata": {
        "id": "8N51goAgpEq0"
      },
      "outputs": [],
      "source": [
        "import torch\n",
        "import math\n",
        "import torch.nn.functional as F\n",
        "import numpy as np\n",
        "\n",
        "\n",
        "def gaussian(window_size, sigma):\n",
        "    gauss = torch.Tensor(\n",
        "        [\n",
        "            math.exp(-((x - window_size // 2) ** 2) / float(2 * sigma ** 2))\n",
        "            for x in range(window_size)\n",
        "        ]\n",
        "    )\n",
        "    return gauss / gauss.sum()\n",
        "\n",
        "\n",
        "def create_window(window_size, channel=1):\n",
        "\n",
        "    _1D_window = gaussian(window_size, 1.5).unsqueeze(1)\n",
        "    _2D_window = _1D_window.mm(_1D_window.t()).float()\n",
        "    _2D_window /= _2D_window.sum()\n",
        "    _2D_window = _2D_window.unsqueeze(0).unsqueeze(0)\n",
        "\n",
        "    window = torch.Tensor(\n",
        "        _2D_window.expand(channel, 1, window_size, window_size).contiguous()\n",
        "    )\n",
        "\n",
        "    return window\n",
        "\n",
        "\n",
        "def ssim(\n",
        "    img1, img2, val_range, window_size=11, window=None, size_average=True, full=False):\n",
        "\n",
        "    L = val_range  # L is the dynamic range of the pixel values (255 for 8-bit grayscale images),\n",
        "\n",
        "    pad = window_size // 2\n",
        "\n",
        "    try:\n",
        "        _, channels, height, width = img1.size()\n",
        "    except:\n",
        "        channels, height, width = img1.size()\n",
        "\n",
        "    # if window is not provided, init one\n",
        "    if window is None:\n",
        "        real_size = min(window_size, height, width)  # window should be atleast 11x11\n",
        "        window = create_window(real_size, channel=channels).to(img1.device)\n",
        "\n",
        "    # calculating the mu parameter (locally) for both images using a gaussian filter\n",
        "    # calculates the luminosity params\n",
        "    mu1 = F.conv2d(img1, window, padding=pad, groups=channels)\n",
        "    mu2 = F.conv2d(img2, window, padding=pad, groups=channels)\n",
        "\n",
        "    mu1_sq = mu1 ** 2\n",
        "    mu2_sq = mu2 ** 2\n",
        "    mu12 = mu1 * mu2\n",
        "\n",
        "    # now we calculate the sigma square parameter\n",
        "    # Sigma deals with the contrast component\n",
        "    sigma1_sq = F.conv2d(img1 * img1, window, padding=pad, groups=channels) - mu1_sq\n",
        "    sigma2_sq = F.conv2d(img2 * img2, window, padding=pad, groups=channels) - mu2_sq\n",
        "    sigma12 = F.conv2d(img1 * img2, window, padding=pad, groups=channels) - mu12\n",
        "\n",
        "    # Some constants for stability\n",
        "    C1 = (0.01) ** 2  # NOTE: Removed L from here (ref PT implementation)\n",
        "    C2 = (0.03) ** 2\n",
        "\n",
        "    contrast_metric = (2.0 * sigma12 + C2) / (sigma1_sq + sigma2_sq + C2)\n",
        "    contrast_metric = torch.mean(contrast_metric)\n",
        "\n",
        "    numerator1 = 2 * mu12 + C1\n",
        "    numerator2 = 2 * sigma12 + C2\n",
        "    denominator1 = mu1_sq + mu2_sq + C1\n",
        "    denominator2 = sigma1_sq + sigma2_sq + C2\n",
        "\n",
        "    ssim_score = (numerator1 * numerator2) / (denominator1 * denominator2)\n",
        "\n",
        "    if size_average:\n",
        "        ret = ssim_score.mean()\n",
        "    else:\n",
        "        ret = ssim_score.mean(1).mean(1).mean(1)\n",
        "\n",
        "    if full:\n",
        "        return ret, contrast_metric\n",
        "\n",
        "    return ret"
      ]
    },
    {
      "cell_type": "code",
      "source": [
        "import cv2\n",
        "import torch\n",
        "import torch.nn.functional as F\n",
        "\n",
        "def calculate_psnr(image1, image2):\n",
        "\n",
        "    if image1.shape != image2.shape:\n",
        "        raise ValueError(\"Images must have the same dimensions\")\n",
        "\n",
        "\n",
        "    device1 = torch.device('cpu')\n",
        "    image1 = image1.to(device1)\n",
        "    image2 = image2.to(device1)\n",
        "    # Calculate (MSE)\n",
        "    mse = F.mse_loss(image1.float(), image2.float()).item()\n",
        "\n",
        "    # Calculate the maximum pixel value\n",
        "    max_pixel = torch.max(image1.float())\n",
        "\n",
        "    # Calculate the PSNR value\n",
        "    psnr = 10 * torch.log10((max_pixel ** 2) / mse)\n",
        "\n",
        "    return psnr\n",
        "\n"
      ],
      "metadata": {
        "id": "J3F7DaICXTGV"
      },
      "execution_count": null,
      "outputs": []
    },
    {
      "cell_type": "code",
      "execution_count": null,
      "metadata": {
        "id": "0QwZLasppI5L"
      },
      "outputs": [],
      "source": [
        "import os\n",
        "import sys\n",
        "import math\n",
        "\n",
        "import numpy as np\n",
        "\n",
        "import torch\n",
        "import torch.nn as nn\n",
        "import torch.nn.functional as F\n",
        "\n",
        "import torchvision\n",
        "\n",
        "\n",
        "def save_model(checkpoint, checkpoint_path):\n",
        "    torch.save(checkpoint, checkpoint_path)\n",
        "\n",
        "def load_checkpoint(checkpoint_path, model, model_opt):\n",
        "    checkpoint = torch.load(checkpoint_path)\n",
        "    model.load_state_dict(checkpoint['state_dict'])\n",
        "    model_opt.optimizer.load_state_dict(checkpoint['optimizer'])\n",
        "    return model, model_opt, checkpoint['epoch']\n",
        "\n",
        "\n",
        "def save_figure(model, loader, epoch, device, mean = [0.485, 0.456, 0.406], std= [0.229, 0.224, 0.225]):\n",
        "    model.eval()\n",
        "\n",
        "    if not os.path.exists(os.path.join(os.getcwd(), 'save_results')):\n",
        "        os.mkdir(os.path.join(os.getcwd(), 'save_results'))\n",
        "\n",
        "    result_dir = os.path.join(os.getcwd(), 'save_results')\n",
        "    if not os.path.exists(os.path.join(result_dir, str(epoch))):\n",
        "        os.mkdir(os.path.join(result_dir, str(epoch)))\n",
        "\n",
        "    save_dir = os.path.join(result_dir, str(epoch))\n",
        "    for idx, (x, y) in enumerate(loader):\n",
        "        x = x.to(device).float()\n",
        "        with torch.no_grad():\n",
        "            out = torch.sigmoid(model(x))\n",
        "            torchvision.utils.save_image(out[2,:], f\"{save_dir}/pred_{idx}.png\")\n",
        "            torchvision.utils.save_image(y[2,:],  f\"{save_dir}/target_{idx}.png\")\n",
        "            x = x.permute(0, 2, 3, 1).cpu().numpy()\n",
        "            x = (x *np.array(std)) + np.array(mean)\n",
        "            x = x / x.max()\n",
        "            x = np.transpose(x, (0, 3, 1, 2))\n",
        "            x = torch.from_numpy(x).float().to(device)\n",
        "            torchvision.utils.save_image(x[2,:], f\"{save_dir}/pnoisy_{idx}.png\")\n",
        "        break\n"
      ]
    },
    {
      "cell_type": "code",
      "execution_count": null,
      "metadata": {
        "colab": {
          "base_uri": "https://localhost:8080/"
        },
        "id": "gD6tvrkXW3SB",
        "outputId": "fb9743e5-d3df-424b-f036-c60754b83cfb"
      },
      "outputs": [
        {
          "output_type": "stream",
          "name": "stderr",
          "text": [
            "/usr/local/lib/python3.10/dist-packages/torchvision/models/_utils.py:208: UserWarning: The parameter 'pretrained' is deprecated since 0.13 and may be removed in the future, please use 'weights' instead.\n",
            "  warnings.warn(\n",
            "/usr/local/lib/python3.10/dist-packages/torchvision/models/_utils.py:223: UserWarning: Arguments other than a weight enum or `None` for 'weights' are deprecated since 0.13 and may be removed in the future. The current behavior is equivalent to passing `weights=VGG16_Weights.IMAGENET1K_V1`. You can also use `weights=VGG16_Weights.DEFAULT` to get the most up-to-date weights.\n",
            "  warnings.warn(msg)\n",
            "Downloading: \"https://download.pytorch.org/models/vgg16-397923af.pth\" to /root/.cache/torch/hub/checkpoints/vgg16-397923af.pth\n",
            "100%|██████████| 528M/528M [00:13<00:00, 41.0MB/s]\n"
          ]
        }
      ],
      "source": [
        "import os\n",
        "import sys\n",
        "import math\n",
        "\n",
        "import numpy as np\n",
        "\n",
        "from tqdm import tqdm\n",
        "\n",
        "import torch\n",
        "import torch.nn as nn\n",
        "import torch.nn.functional as F\n",
        "import torch.optim as optim\n",
        "\n",
        "#from ssim import ssim\n",
        "#from PerceptualLoss import  VGGPerceptualLoss\n",
        "\n",
        "criterion = VGGPerceptualLoss()\n",
        "\n",
        "def train(model, loader, optimizer, device, ):\n",
        "\n",
        "    model.train()\n",
        "    training_loss = 0.0\n",
        "    avg_ssim = 0.0\n",
        "    criterion = VGGPerceptualLoss()\n",
        "    avg_psnr=0.0\n",
        "\n",
        "    for i ,(x, y) in tqdm(enumerate(loader), total=len(loader), leave=False):\n",
        "\n",
        "        x = x.to(device).float()\n",
        "        y = y.to(device).float()\n",
        "        criterion = criterion.to(device)\n",
        "\n",
        "        out = torch.sigmoid(model(x))\n",
        "        optimizer.zero_grad()\n",
        "\n",
        "        # metrics = ssim(out, y, 1)\n",
        "        # metrics2=calculate_psnr(out,y)\n",
        "        loss = criterion(out, y)\n",
        "\n",
        "        loss.backward()\n",
        "        optimizer.step()\n",
        "\n",
        "        training_loss += loss.item()\n",
        "        # avg_ssim += metrics.item()\n",
        "        # avg_psnr+=metrics2\n",
        "\n",
        "    training_loss = training_loss / len(loader)\n",
        "    # avg_ssim      = avg_ssim / len(loader)\n",
        "    # avg_psnr = avg_psnr/len(loader)\n",
        "    return model, training_loss, avg_ssim,avg_psnr\n",
        "\n",
        "\n",
        "def evaluate(model, loader, device):\n",
        "    model.eval()\n",
        "    val_loss = 0.0\n",
        "    avg_ssim = 0.0\n",
        "    avg_psnr=0.0\n",
        "    criterion = VGGPerceptualLoss()\n",
        "\n",
        "    with torch.no_grad():\n",
        "        for i ,(x, y) in tqdm(enumerate(loader), total=len(loader), leave=False):\n",
        "\n",
        "            x = x.to(device).float()\n",
        "            y = y.to(device).float()\n",
        "            criterion = criterion.to(device)\n",
        "\n",
        "            out = model(x)\n",
        "            out = torch.sigmoid(out)\n",
        "\n",
        "            metrics = ssim(out, y, 1)\n",
        "            metrics2=calculate_psnr(out,y)\n",
        "            loss = criterion(out, y)\n",
        "\n",
        "\n",
        "            val_loss      += loss.item()\n",
        "            avg_ssim      += metrics.item()\n",
        "            avg_psnr+=metrics2\n",
        "\n",
        "        val_loss = val_loss / len(loader)\n",
        "        avg_ssim = avg_ssim / len(loader)\n",
        "        avg_psnr = avg_psnr/len(loader)\n",
        "        return model, val_loss, avg_ssim,avg_psnr"
      ]
    },
    {
      "cell_type": "code",
      "execution_count": null,
      "metadata": {
        "colab": {
          "base_uri": "https://localhost:8080/",
          "height": 1000
        },
        "id": "MoRHwUf7Wbgx",
        "outputId": "54124cc9-3a5d-467c-dcfa-e6c6dcdceb3d"
      },
      "outputs": [
        {
          "output_type": "stream",
          "name": "stdout",
          "text": [
            "433 76\n",
            "55 10\n"
          ]
        },
        {
          "output_type": "stream",
          "name": "stderr",
          "text": []
        },
        {
          "output_type": "stream",
          "name": "stdout",
          "text": [
            "epoch 0 Training loss 1.9164997816085816 training ssim 0.0 training psnr 0.0                   validation loss 2.671071743965149 and testing ssim 0.19175611436367035 testing_psnr 3.361661434173584\n"
          ]
        },
        {
          "output_type": "stream",
          "name": "stderr",
          "text": []
        },
        {
          "output_type": "stream",
          "name": "stdout",
          "text": [
            "epoch 1 Training loss 1.6002556584098122 training ssim 0.0 training psnr 0.0                   validation loss 1.5102197170257567 and testing ssim 0.43548665642738343 testing_psnr 12.531476020812988\n"
          ]
        },
        {
          "output_type": "stream",
          "name": "stderr",
          "text": []
        },
        {
          "output_type": "stream",
          "name": "stdout",
          "text": [
            "epoch 2 Training loss 1.4498348062688655 training ssim 0.0 training psnr 0.0                   validation loss 1.5234755158424378 and testing ssim 0.6815564930438995 testing_psnr 19.201953887939453\n"
          ]
        },
        {
          "output_type": "stream",
          "name": "stderr",
          "text": []
        },
        {
          "output_type": "stream",
          "name": "stdout",
          "text": [
            "epoch 3 Training loss 1.3296704010529952 training ssim 0.0 training psnr 0.0                   validation loss 1.5401189804077149 and testing ssim 0.7015475392341614 testing_psnr 12.30384635925293\n"
          ]
        },
        {
          "output_type": "stream",
          "name": "stderr",
          "text": []
        },
        {
          "output_type": "stream",
          "name": "stdout",
          "text": [
            "epoch 4 Training loss 1.2126917080445723 training ssim 0.0 training psnr 0.0                   validation loss 1.18134286403656 and testing ssim 0.8429835736751556 testing_psnr 30.337627410888672\n"
          ]
        },
        {
          "output_type": "stream",
          "name": "stderr",
          "text": []
        },
        {
          "output_type": "stream",
          "name": "stdout",
          "text": [
            "epoch 5 Training loss 1.1758254701440984 training ssim 0.0 training psnr 0.0                   validation loss 1.1852007746696471 and testing ssim 0.8343759417533875 testing_psnr 29.739639282226562\n"
          ]
        },
        {
          "output_type": "stream",
          "name": "stderr",
          "text": []
        },
        {
          "output_type": "stream",
          "name": "stdout",
          "text": [
            "epoch 6 Training loss 1.1589943734082309 training ssim 0.0 training psnr 0.0                   validation loss 1.1722100496292114 and testing ssim 0.8393115222454071 testing_psnr 28.5677433013916\n"
          ]
        },
        {
          "output_type": "stream",
          "name": "stderr",
          "text": []
        },
        {
          "output_type": "stream",
          "name": "stdout",
          "text": [
            "epoch 7 Training loss 1.146575893055309 training ssim 0.0 training psnr 0.0                   validation loss 1.1331689476966857 and testing ssim 0.8599086582660675 testing_psnr 27.827251434326172\n"
          ]
        },
        {
          "output_type": "stream",
          "name": "stderr",
          "text": []
        },
        {
          "output_type": "stream",
          "name": "stdout",
          "text": [
            "epoch 8 Training loss 1.1356224016709762 training ssim 0.0 training psnr 0.0                   validation loss 1.1333695650100708 and testing ssim 0.849591052532196 testing_psnr 28.81329345703125\n"
          ]
        },
        {
          "output_type": "stream",
          "name": "stderr",
          "text": []
        },
        {
          "output_type": "stream",
          "name": "stdout",
          "text": [
            "epoch 9 Training loss 1.128442627733404 training ssim 0.0 training psnr 0.0                   validation loss 1.1556755900382996 and testing ssim 0.853864973783493 testing_psnr 22.41476058959961\n"
          ]
        },
        {
          "output_type": "stream",
          "name": "stderr",
          "text": []
        },
        {
          "output_type": "stream",
          "name": "stdout",
          "text": [
            "epoch 10 Training loss 1.13030452078039 training ssim 0.0 training psnr 0.0                   validation loss 1.111140251159668 and testing ssim 0.8750343382358551 testing_psnr 30.442800521850586\n"
          ]
        },
        {
          "output_type": "stream",
          "name": "stderr",
          "text": []
        },
        {
          "output_type": "stream",
          "name": "stdout",
          "text": [
            "epoch 11 Training loss 1.1268538193269209 training ssim 0.0 training psnr 0.0                   validation loss 1.1399505853652954 and testing ssim 0.869911390542984 testing_psnr 24.447711944580078\n"
          ]
        },
        {
          "output_type": "stream",
          "name": "stderr",
          "text": []
        },
        {
          "output_type": "stream",
          "name": "stdout",
          "text": [
            "epoch 12 Training loss 1.1090115677226673 training ssim 0.0 training psnr 0.0                   validation loss 1.1099905252456665 and testing ssim 0.8803780496120452 testing_psnr 29.672115325927734\n"
          ]
        },
        {
          "output_type": "stream",
          "name": "stderr",
          "text": []
        },
        {
          "output_type": "stream",
          "name": "stdout",
          "text": [
            "epoch 13 Training loss 1.1055316491560503 training ssim 0.0 training psnr 0.0                   validation loss 1.1365548372268677 and testing ssim 0.8695714473724365 testing_psnr 24.084339141845703\n"
          ]
        },
        {
          "output_type": "stream",
          "name": "stderr",
          "text": []
        },
        {
          "output_type": "stream",
          "name": "stdout",
          "text": [
            "epoch 14 Training loss 1.1010761239311913 training ssim 0.0 training psnr 0.0                   validation loss 1.1339321374893188 and testing ssim 0.8386745452880859 testing_psnr 31.67820167541504\n"
          ]
        },
        {
          "output_type": "stream",
          "name": "stderr",
          "text": []
        },
        {
          "output_type": "stream",
          "name": "stdout",
          "text": [
            "epoch 15 Training loss 1.0933701385151255 training ssim 0.0 training psnr 0.0                   validation loss 1.1019372582435607 and testing ssim 0.8787555038928986 testing_psnr 31.798797607421875\n"
          ]
        },
        {
          "output_type": "stream",
          "name": "stderr",
          "text": []
        },
        {
          "output_type": "stream",
          "name": "stdout",
          "text": [
            "epoch 16 Training loss 1.0924328457225452 training ssim 0.0 training psnr 0.0                   validation loss 1.0866251349449159 and testing ssim 0.8909843683242797 testing_psnr 30.767629623413086\n"
          ]
        },
        {
          "output_type": "stream",
          "name": "stderr",
          "text": []
        },
        {
          "output_type": "stream",
          "name": "stdout",
          "text": [
            "epoch 17 Training loss 1.085430872440338 training ssim 0.0 training psnr 0.0                   validation loss 1.0791723489761353 and testing ssim 0.8909716308116913 testing_psnr 31.240489959716797\n"
          ]
        },
        {
          "output_type": "stream",
          "name": "stderr",
          "text": []
        },
        {
          "output_type": "stream",
          "name": "stdout",
          "text": [
            "epoch 18 Training loss 1.076842561635104 training ssim 0.0 training psnr 0.0                   validation loss 1.0892799019813537 and testing ssim 0.8963308990001678 testing_psnr 32.54130554199219\n"
          ]
        },
        {
          "output_type": "stream",
          "name": "stderr",
          "text": []
        },
        {
          "output_type": "stream",
          "name": "stdout",
          "text": [
            "epoch 19 Training loss 1.0675961125980724 training ssim 0.0 training psnr 0.0                   validation loss 1.0757130980491638 and testing ssim 0.8919422626495361 testing_psnr 29.649362564086914\n"
          ]
        },
        {
          "output_type": "stream",
          "name": "stderr",
          "text": []
        },
        {
          "output_type": "stream",
          "name": "stdout",
          "text": [
            "epoch 20 Training loss 1.071490770036524 training ssim 0.0 training psnr 0.0                   validation loss 1.0640599846839904 and testing ssim 0.9004649639129638 testing_psnr 31.687158584594727\n"
          ]
        },
        {
          "output_type": "stream",
          "name": "stderr",
          "text": []
        },
        {
          "output_type": "stream",
          "name": "stdout",
          "text": [
            "epoch 21 Training loss 1.0674367536198008 training ssim 0.0 training psnr 0.0                   validation loss 1.0789148211479187 and testing ssim 0.8778611660003662 testing_psnr 32.173362731933594\n"
          ]
        },
        {
          "output_type": "stream",
          "name": "stderr",
          "text": []
        },
        {
          "output_type": "stream",
          "name": "stdout",
          "text": [
            "epoch 22 Training loss 1.0561635819348423 training ssim 0.0 training psnr 0.0                   validation loss 1.0739826917648316 and testing ssim 0.896808260679245 testing_psnr 32.945621490478516\n"
          ]
        },
        {
          "output_type": "stream",
          "name": "stderr",
          "text": []
        },
        {
          "output_type": "stream",
          "name": "stdout",
          "text": [
            "epoch 23 Training loss 1.0691005966880105 training ssim 0.0 training psnr 0.0                   validation loss 1.058215892314911 and testing ssim 0.9020622491836547 testing_psnr 32.063148498535156\n"
          ]
        },
        {
          "output_type": "stream",
          "name": "stderr",
          "text": []
        },
        {
          "output_type": "stream",
          "name": "stdout",
          "text": [
            "epoch 24 Training loss 1.0607420964674517 training ssim 0.0 training psnr 0.0                   validation loss 1.0668768525123595 and testing ssim 0.8970088183879852 testing_psnr 30.872142791748047\n"
          ]
        },
        {
          "output_type": "stream",
          "name": "stderr",
          "text": []
        },
        {
          "output_type": "stream",
          "name": "stdout",
          "text": [
            "epoch 25 Training loss 1.0544050444256177 training ssim 0.0 training psnr 0.0                   validation loss 1.0665918111801147 and testing ssim 0.9036054134368896 testing_psnr 31.217121124267578\n"
          ]
        },
        {
          "output_type": "stream",
          "name": "stderr",
          "text": []
        },
        {
          "output_type": "stream",
          "name": "stdout",
          "text": [
            "epoch 26 Training loss 1.0505900101228194 training ssim 0.0 training psnr 0.0                   validation loss 1.0622804045677186 and testing ssim 0.8978386282920837 testing_psnr 31.54034996032715\n"
          ]
        },
        {
          "output_type": "stream",
          "name": "stderr",
          "text": []
        },
        {
          "output_type": "stream",
          "name": "stdout",
          "text": [
            "epoch 27 Training loss 1.0449575445868753 training ssim 0.0 training psnr 0.0                   validation loss 1.0458007097244262 and testing ssim 0.9040452659130096 testing_psnr 32.80711364746094\n"
          ]
        },
        {
          "output_type": "stream",
          "name": "stderr",
          "text": []
        },
        {
          "output_type": "stream",
          "name": "stdout",
          "text": [
            "epoch 28 Training loss 1.0431925827806645 training ssim 0.0 training psnr 0.0                   validation loss 1.0657117009162902 and testing ssim 0.9003380358219146 testing_psnr 30.715002059936523\n"
          ]
        },
        {
          "output_type": "stream",
          "name": "stderr",
          "text": []
        },
        {
          "output_type": "stream",
          "name": "stdout",
          "text": [
            "epoch 29 Training loss 1.0395240577784453 training ssim 0.0 training psnr 0.0                   validation loss 1.0400505304336547 and testing ssim 0.9073967039585114 testing_psnr 31.47628402709961\n"
          ]
        },
        {
          "output_type": "stream",
          "name": "stderr",
          "text": []
        },
        {
          "output_type": "stream",
          "name": "stdout",
          "text": [
            "epoch 30 Training loss 1.0318170244043523 training ssim 0.0 training psnr 0.0                   validation loss 1.0330987930297852 and testing ssim 0.9097204685211182 testing_psnr 31.53072738647461\n"
          ]
        },
        {
          "output_type": "stream",
          "name": "stderr",
          "text": []
        },
        {
          "output_type": "stream",
          "name": "stdout",
          "text": [
            "epoch 31 Training loss 1.0354914806105875 training ssim 0.0 training psnr 0.0                   validation loss 1.0679779767990112 and testing ssim 0.889357328414917 testing_psnr 26.65981101989746\n"
          ]
        },
        {
          "output_type": "stream",
          "name": "stderr",
          "text": []
        },
        {
          "output_type": "stream",
          "name": "stdout",
          "text": [
            "epoch 32 Training loss 1.0375078168782321 training ssim 0.0 training psnr 0.0                   validation loss 1.0499867439270019 and testing ssim 0.8995946109294891 testing_psnr 27.339855194091797\n"
          ]
        },
        {
          "output_type": "stream",
          "name": "stderr",
          "text": []
        },
        {
          "output_type": "stream",
          "name": "stdout",
          "text": [
            "epoch 33 Training loss 1.0241117910905317 training ssim 0.0 training psnr 0.0                   validation loss 1.2366409778594971 and testing ssim 0.8478054761886596 testing_psnr 31.283077239990234\n"
          ]
        },
        {
          "output_type": "stream",
          "name": "stderr",
          "text": []
        },
        {
          "output_type": "stream",
          "name": "stdout",
          "text": [
            "epoch 34 Training loss 1.099770723689686 training ssim 0.0 training psnr 0.0                   validation loss 1.1188157796859741 and testing ssim 0.8398180186748505 testing_psnr 32.603515625\n"
          ]
        },
        {
          "output_type": "stream",
          "name": "stderr",
          "text": []
        },
        {
          "output_type": "stream",
          "name": "stdout",
          "text": [
            "epoch 35 Training loss 1.0614517244425687 training ssim 0.0 training psnr 0.0                   validation loss 1.0731002330780028 and testing ssim 0.8908677756786346 testing_psnr 28.672489166259766\n"
          ]
        },
        {
          "output_type": "stream",
          "name": "stderr",
          "text": []
        },
        {
          "output_type": "stream",
          "name": "stdout",
          "text": [
            "epoch 36 Training loss 1.047208349271254 training ssim 0.0 training psnr 0.0                   validation loss 1.0485719978809356 and testing ssim 0.9007649838924408 testing_psnr 32.521629333496094\n"
          ]
        },
        {
          "output_type": "stream",
          "name": "stderr",
          "text": []
        },
        {
          "output_type": "stream",
          "name": "stdout",
          "text": [
            "epoch 37 Training loss 1.0365160497752104 training ssim 0.0 training psnr 0.0                   validation loss 1.0461239695549012 and testing ssim 0.8963366329669953 testing_psnr 30.329044342041016\n"
          ]
        },
        {
          "output_type": "stream",
          "name": "stderr",
          "text": []
        },
        {
          "output_type": "stream",
          "name": "stdout",
          "text": [
            "epoch 38 Training loss 1.028973452611403 training ssim 0.0 training psnr 0.0                   validation loss 1.033259344100952 and testing ssim 0.9080093979835511 testing_psnr 31.443603515625\n"
          ]
        },
        {
          "output_type": "stream",
          "name": "stderr",
          "text": []
        },
        {
          "output_type": "stream",
          "name": "stdout",
          "text": [
            "epoch 39 Training loss 1.0292612314224243 training ssim 0.0 training psnr 0.0                   validation loss 1.0275913596153259 and testing ssim 0.9055325210094451 testing_psnr 31.31902503967285\n"
          ]
        },
        {
          "output_type": "stream",
          "name": "stderr",
          "text": []
        },
        {
          "output_type": "stream",
          "name": "stdout",
          "text": [
            "epoch 40 Training loss 1.028739699450406 training ssim 0.0 training psnr 0.0                   validation loss 1.0403760552406311 and testing ssim 0.8974111974239349 testing_psnr 28.391132354736328\n"
          ]
        },
        {
          "output_type": "stream",
          "name": "stderr",
          "text": []
        },
        {
          "output_type": "stream",
          "name": "stdout",
          "text": [
            "epoch 41 Training loss 1.0195616017688405 training ssim 0.0 training psnr 0.0                   validation loss 1.030051863193512 and testing ssim 0.8975040078163147 testing_psnr 31.74867820739746\n"
          ]
        },
        {
          "output_type": "stream",
          "name": "stderr",
          "text": []
        },
        {
          "output_type": "stream",
          "name": "stdout",
          "text": [
            "epoch 42 Training loss 1.0186860929835926 training ssim 0.0 training psnr 0.0                   validation loss 1.0210299253463746 and testing ssim 0.9102904319763183 testing_psnr 31.60199546813965\n"
          ]
        },
        {
          "output_type": "stream",
          "name": "stderr",
          "text": []
        },
        {
          "output_type": "stream",
          "name": "stdout",
          "text": [
            "epoch 43 Training loss 1.023649194023826 training ssim 0.0 training psnr 0.0                   validation loss 1.0559925436973572 and testing ssim 0.8714142739772797 testing_psnr 31.675174713134766\n"
          ]
        },
        {
          "output_type": "stream",
          "name": "stderr",
          "text": []
        },
        {
          "output_type": "stream",
          "name": "stdout",
          "text": [
            "epoch 44 Training loss 1.0243713931603866 training ssim 0.0 training psnr 0.0                   validation loss 1.2341767430305481 and testing ssim 0.8162465453147888 testing_psnr 31.895727157592773\n"
          ]
        },
        {
          "output_type": "stream",
          "name": "stderr",
          "text": []
        },
        {
          "output_type": "stream",
          "name": "stdout",
          "text": [
            "epoch 45 Training loss 1.0113177798011086 training ssim 0.0 training psnr 0.0                   validation loss 1.0128497838974 and testing ssim 0.9102264523506165 testing_psnr 32.03489303588867\n"
          ]
        },
        {
          "output_type": "stream",
          "name": "stderr",
          "text": []
        },
        {
          "output_type": "stream",
          "name": "stdout",
          "text": [
            "epoch 46 Training loss 1.0157788959416476 training ssim 0.0 training psnr 0.0                   validation loss 1.0255270183086396 and testing ssim 0.9077555000782013 testing_psnr 33.58214569091797\n"
          ]
        },
        {
          "output_type": "stream",
          "name": "stderr",
          "text": []
        },
        {
          "output_type": "stream",
          "name": "stdout",
          "text": [
            "epoch 47 Training loss 1.0065326755697077 training ssim 0.0 training psnr 0.0                   validation loss 1.0161556005477905 and testing ssim 0.912617951631546 testing_psnr 31.560022354125977\n"
          ]
        },
        {
          "output_type": "stream",
          "name": "stderr",
          "text": []
        },
        {
          "output_type": "stream",
          "name": "stdout",
          "text": [
            "epoch 48 Training loss 1.0091414538296786 training ssim 0.0 training psnr 0.0                   validation loss 1.0143738925457 and testing ssim 0.9099540472030639 testing_psnr 32.087120056152344\n"
          ]
        },
        {
          "output_type": "stream",
          "name": "stderr",
          "text": []
        },
        {
          "output_type": "stream",
          "name": "stdout",
          "text": [
            "epoch 49 Training loss 1.0083039771426807 training ssim 0.0 training psnr 0.0                   validation loss 1.0221803665161133 and testing ssim 0.90605388879776 testing_psnr 30.574615478515625\n"
          ]
        },
        {
          "output_type": "display_data",
          "data": {
            "text/plain": [
              "<Figure size 1000x500 with 1 Axes>"
            ],
            "image/png": "[encoded data removed]"
          },
          "metadata": {}
        }
      ],
      "source": [
        "import os\n",
        "import sys\n",
        "import math\n",
        "import copy\n",
        "\n",
        "import numpy as np\n",
        "\n",
        "import torch\n",
        "import torch.nn as nn\n",
        "import torch.optim as optim\n",
        "import torch.utils.data as data\n",
        "\n",
        "#from dataset import BrainTumorDataset\n",
        "#from encoder.encoder_model import get_preprocessing_fn\n",
        "#from Model import UNeT\n",
        "#from model_training import train, evaluate\n",
        "#from utils import save_figure\n",
        "\n",
        "\n",
        "def main(model, preprocessing, device, width, height, learning_rate, weight_decay,  batch_size=8, num_epochs=50):\n",
        "    train_dataset  = BrainTumorDataset(preprocessing_fun=preprocessing, image_size=(height, width))\n",
        "    valida_dataset = BrainTumorDataset(train=False, preprocessing_fun=preprocessing, image_size=(height, width))\n",
        "    print(len(train_dataset), len(valida_dataset))\n",
        "\n",
        "\n",
        "    train_loader  = data.DataLoader(train_dataset, batch_size=batch_size, shuffle=True)\n",
        "    test_loader   = data.DataLoader(valida_dataset, batch_size=batch_size, shuffle=False)\n",
        "    print(len(train_loader), len(test_loader))\n",
        "\n",
        "\n",
        "    optimizer = optim.Adam(model.parameters(), lr=learning_rate, weight_decay=weight_decay)\n",
        "\n",
        "    best_model_loss = 1e10\n",
        "    best_model_wts  = copy.deepcopy(model.state_dict())\n",
        "    best_ssimScore = -1\n",
        "\n",
        "    vald_losses = []\n",
        "    train_losses = []\n",
        "\n",
        "    for epoch in range(num_epochs):\n",
        "        model, training_losss, train_ssim,train_psnr = train(model, train_loader, optimizer, device)\n",
        "        model, val_losses, test_ssim ,test_psnr = evaluate(model, test_loader, device)\n",
        "        vald_losses.append(val_losses)\n",
        "        train_losses.append(training_losss)\n",
        "\n",
        "        print(f'epoch {epoch} Training loss {training_losss} training ssim {train_ssim} training psnr {train_psnr} \\\n",
        "                  validation loss {val_losses} and testing ssim {test_ssim} testing_psnr {test_psnr}')\n",
        "\n",
        "        if best_model_loss  > val_losses:\n",
        "            best_model_loss = val_losses\n",
        "            best_model_wts = copy.deepcopy(model.state_dict())\n",
        "            best_ssimScore = test_ssim\n",
        "\n",
        "        if epoch %50 ==0 :\n",
        "            learning_rate = learning_rate /10\n",
        "\n",
        "        save_figure(model, test_loader, epoch, device)\n",
        "        torch.cuda.empty_cache()\n",
        "\n",
        "    # print(f'Best validation loss {best_model_loss} and best ssim score {best_ssimScore}')\n",
        "    # torch.save(best_model_wts.state_dict(), 'model_weights.pth')\n",
        "\n",
        "    import matplotlib.pyplot as plt\n",
        "    plt.figure(figsize=(10,5))\n",
        "    plt.title(\"Training and Validation Loss\")\n",
        "    plt.plot(vald_losses,label=\"val\")\n",
        "    plt.plot(train_losses,label=\"train\")\n",
        "    plt.xlabel(\"iterations\")\n",
        "    plt.ylabel(\"Loss\")\n",
        "    plt.legend()\n",
        "    plt.show()\n",
        "\n",
        "\n",
        "\n",
        "if __name__ == '__main__':\n",
        "    device = torch.device('cuda' if torch.cuda.is_available() else 'cpu')\n",
        "\n",
        "    width = 640\n",
        "    height = 640\n",
        "    encoder_name= 'resnet18'\n",
        "    learning_rate = 5e-4\n",
        "    weight_decay = 1e-5\n",
        "    batch_size = 8\n",
        "\n",
        "    model = UNeT(encoder_name=encoder_name)\n",
        "    model = model.to(device)\n",
        "    preprocessing =  get_preprocessing_fn(encoder_name=encoder_name, pretrained='ssl')\n",
        "\n",
        "    main(model, preprocessing=preprocessing, device=device, width=width, height=height,\n",
        "                       learning_rate=learning_rate, weight_decay=weight_decay, batch_size=batch_size)"
      ]
    },
    {
      "cell_type": "code",
      "execution_count": null,
      "metadata": {
        "id": "gp4dviY7X_-6",
        "colab": {
          "base_uri": "https://localhost:8080/"
        },
        "outputId": "2ad2116c-f443-4428-8eb9-9c8b5fdda9b7"
      },
      "outputs": [
        {
          "output_type": "stream",
          "name": "stdout",
          "text": [
            "433 76\n",
            "55 10\n"
          ]
        }
      ],
      "source": [
        "train_dataset  = BrainTumorDataset(preprocessing_fun=preprocessing, image_size=(height, width))\n",
        "valida_dataset = BrainTumorDataset(train=False, preprocessing_fun=preprocessing, image_size=(height, width))\n",
        "print(len(train_dataset), len(valida_dataset))\n",
        "\n",
        "\n",
        "train_loader  = data.DataLoader(train_dataset, batch_size=batch_size, shuffle=True)\n",
        "test_loader   = data.DataLoader(valida_dataset, batch_size=batch_size, shuffle=False)\n",
        "print(len(train_loader), len(test_loader))"
      ]
    },
    {
      "cell_type": "code",
      "execution_count": null,
      "metadata": {
        "id": "cCAPzU3-x_wD"
      },
      "outputs": [],
      "source": [
        "def save_figure1(loader, num_epochs, device, mean = [0.485, 0.456, 0.406], std= [0.229, 0.224, 0.225]):\n",
        "    #model.eval()\n",
        "\n",
        "    if not os.path.exists(os.path.join(os.getcwd(), 'save_results1')):\n",
        "        os.mkdir(os.path.join(os.getcwd(), 'save_results1'))\n",
        "\n",
        "    result_dir = os.path.join(os.getcwd(), 'save_results1')\n",
        "    if not os.path.exists(os.path.join(result_dir, str(num_epoch))):\n",
        "        os.mkdir(os.path.join(result_dir, str(num_epoch)))\n",
        "\n",
        "    save_dir = os.path.join(result_dir, str(num_epoch))\n",
        "    for idx, (x, y) in enumerate(loader):\n",
        "        x = x.to(device).float()\n",
        "        with torch.no_grad():\n",
        "            out = torch.sigmoid(model(x))\n",
        "            torchvision.utils.save_image(out[2,:], f\"{save_dir}/pred_{idx}.png\")\n",
        "            torchvision.utils.save_image(y[2,:],  f\"{save_dir}/target_{idx}.png\")\n",
        "            x = x.permute(0, 2, 3, 1).cpu().numpy()\n",
        "            x = (x *np.array(std)) + np.array(mean)\n",
        "            x = x / x.max()\n",
        "            x = np.transpose(x, (0, 3, 1, 2))\n",
        "            x = torch.from_numpy(x).float().to(device)\n",
        "            torchvision.utils.save_image(x[2,:], f\"{save_dir}/pnoisy_{idx}.png\")\n",
        "        break"
      ]
    },
    {
      "cell_type": "code",
      "execution_count": null,
      "metadata": {
        "id": "K4UouRWiXwBL"
      },
      "outputs": [],
      "source": [
        "num_epoch = 50\n",
        "save_figure1(test_loader, num_epoch, device)"
      ]
    },
    {
      "cell_type": "code",
      "source": [],
      "metadata": {
        "id": "RGqGdMzLUbfd"
      },
      "execution_count": null,
      "outputs": []
    }
  ],
  "metadata": {
    "accelerator": "GPU",
    "colab": {
      "provenance": [],
      "gpuType": "T4"
    },
    "gpuClass": "standard",
    "kernelspec": {
      "display_name": "Python 3",
      "name": "python3"
    },
    "language_info": {
      "name": "python"
    }
  },
  "nbformat": 4,
  "nbformat_minor": 0
}